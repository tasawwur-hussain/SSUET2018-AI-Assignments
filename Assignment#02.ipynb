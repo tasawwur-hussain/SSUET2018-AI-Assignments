{
 "cells": [
  {
   "cell_type": "markdown",
   "metadata": {},
   "source": [
    "<h3>Q no 1:  Write a python program to find number of occurrences of given number in a list with out using built-in methods</h3>\n",
    "<h4>**1 generate a list of some random num which is repeated again and again</h4>\n",
    "<h4>**2 take user input any number</h4>\n",
    "<h4>**3 find the number of occurrences of that num in your list</h4>\n",
    "<h4>**4 print some message to user with that result</h4>"
   ]
  },
  {
   "cell_type": "code",
   "execution_count": 2,
   "metadata": {},
   "outputs": [
    {
     "name": "stdout",
     "output_type": "stream",
     "text": [
      "8888\n",
      "Answer:  8888\n",
      "Your input is placed on position No:  8\n"
     ]
    }
   ],
   "source": [
    "Numbers = list((\"0000\",\"1111\",\"2222\",\"3333\",\"4444\",\"5555\",\"6666\",\"7777\",\"8888\",\"9999\"))\n",
    "x = input()\n",
    "for i in Numbers:\n",
    "    if i== x:\n",
    "        z=Numbers.index(x)\n",
    "        print(\"Answer: \",i)\n",
    "    else:\n",
    "        continue\n",
    "    print(\"Your input is placed on position No: \", z)\n"
   ]
  },
  {
   "cell_type": "markdown",
   "metadata": {},
   "source": [
    "<h3>Q no 2:   [\"www.zframez.com\", \"www.wikipedia.org\", \"www.asp.net\", \"www.abcd.in\"]\n",
    "<br/><br/><br/><br/><br/>\n",
    "Write a python program to print website suffixes (com , org , net ,in) from this list\n",
    "</h3>"
   ]
  },
  {
   "cell_type": "code",
   "execution_count": 3,
   "metadata": {},
   "outputs": [
    {
     "name": "stdout",
     "output_type": "stream",
     "text": [
      "com\n",
      "org\n",
      "net\n",
      "in\n"
     ]
    }
   ],
   "source": [
    "sites = [\"www.zframez.com\", \"www.wikipedia.org\", \"www.asp.net\", \"www.abcd.in\"]\n",
    "for i in sites:\n",
    "    suffix=i.split('.')\n",
    "    print(suffix[2])"
   ]
  },
  {
   "cell_type": "markdown",
   "metadata": {},
   "source": [
    "<h3> Q no 3 : Write a program which can compute the factorial of a given numbers.</h3>\n",
    "<br/>\n",
    "<br/>\n",
    "<h4>**1 first take user input any number</h4>\n",
    "<h4>**2 calculate factorial of that input and then print the result to user</h4>"
   ]
  },
  {
   "cell_type": "code",
   "execution_count": 4,
   "metadata": {},
   "outputs": [
    {
     "name": "stdout",
     "output_type": "stream",
     "text": [
      "Enter a number: 8\n",
      "The factorial of 8 is 40320\n"
     ]
    }
   ],
   "source": [
    "num = int(input(\"Enter a number: \"))\n",
    "factorial = 1\n",
    "if num < 0:\n",
    "   print(\"Wrong(-ve) input \")\n",
    "elif num == 0:\n",
    "   print(\"The factorial of 0 is 1\")\n",
    "else:\n",
    "   for i in range(1,num + 1):\n",
    "       factorial = factorial*i\n",
    "   print(\"The factorial of\",num,\"is\",factorial)"
   ]
  },
  {
   "cell_type": "markdown",
   "metadata": {},
   "source": [
    "<h3>Q 4 (a) :  If you could invite anyone, living or deceased, to dinner, who\n",
    "would you invite? Make a list that includes at least three people you’d like to\n",
    "invite to dinner. Then use your list to print a message to each person, inviting\n",
    "them to dinner.</h3>"
   ]
  },
  {
   "cell_type": "code",
   "execution_count": 5,
   "metadata": {},
   "outputs": [
    {
     "name": "stdout",
     "output_type": "stream",
     "text": [
      "Hello Ali ,I would like to invite you at my place for dinner, please give me oppurtunity for your hospitality. Waiting for your pressence.\n",
      "Hello Faizan ,I would like to invite you at my place for dinner, please give me oppurtunity for your hospitality. Waiting for your pressence.\n",
      "Hello Umer ,I would like to invite you at my place for dinner, please give me oppurtunity for your hospitality. Waiting for your pressence.\n"
     ]
    }
   ],
   "source": [
    "persons = ['Ali','Faizan','Umer']\n",
    "message = \",I would like to invite you at my place for dinner, please give me oppurtunity for your hospitality. Waiting for your pressence.\"\n",
    "for i in persons:\n",
    "    print(\"Hello\",i,message)\n",
    "    "
   ]
  },
  {
   "cell_type": "markdown",
   "metadata": {},
   "source": [
    "<h3>Q 4 (b) : You just heard that one of your guests can’t make the\n",
    "dinner, so you need to send out a new set of invitations. You’ll have to think of\n",
    "someone else to invite.<br/></br><br/>\n",
    "•\t Start with your program from Q 4 (a). Add a print statement at the\n",
    "end of your program stating the name of the guest who can’t make it.<br/></br><br/>\n",
    "•\t Modify your list, replacing the name of the guest who can’t make it with\n",
    "the name of the new person you are inviting.<br/></br><br/>\n",
    "•\t Print a second set of invitation messages, one for each person who is still\n",
    "in your list.<br/></br><br/></h3>"
   ]
  },
  {
   "cell_type": "code",
   "execution_count": 6,
   "metadata": {},
   "outputs": [
    {
     "name": "stdout",
     "output_type": "stream",
     "text": [
      "The guest who could not come is  '' Umer ''\n",
      "\n",
      "Hey Khalil ,I would like to invite you at my place for dinner, please give me oppurtunity for your hospitality. Waiting for your pressence.\n",
      "Hey Ali ,I would like to invite you at my place for dinner, please give me oppurtunity for your hospitality. Waiting for your pressence.\n",
      "Hey Faizan ,I would like to invite you at my place for dinner, please give me oppurtunity for your hospitality. Waiting for your pressence.\n"
     ]
    }
   ],
   "source": [
    "print(\"The guest who could not come is \",\"''\",persons[2],\"''\\n\")\n",
    "_persons = persons[:]\n",
    "_persons.insert(0,'Khalil')\n",
    "_persons.pop()\n",
    "for i in _persons:\n",
    "    print(\"Hey\",i,message)\n"
   ]
  },
  {
   "cell_type": "markdown",
   "metadata": {},
   "source": [
    "<h3>Q 4 (c) : You just found a bigger dinner table, so now more space is\n",
    "available. Think of three more guests to invite to dinner.<br/></br><br/>\n",
    "•\t Start with your program from Q 4 (a) and (b) Add a print\n",
    "statement to the end of your program informing people that you found a\n",
    "bigger dinner table.<br/></br><br/>\n",
    "•\t Use insert() to add one new guest to the beginning of your list.<br/></br><br/>\n",
    "•\t Use insert() to add one new guest to the middle of your list.<br/></br><br/>\n",
    "•\t Use append() to add one new guest to the end of your list.<br/></br><br/>\n",
    "•\t Print a new set of invitation messages, one for each person in your list.<br/></br><br/></h3>"
   ]
  },
  {
   "cell_type": "code",
   "execution_count": 7,
   "metadata": {},
   "outputs": [
    {
     "name": "stdout",
     "output_type": "stream",
     "text": [
      "Hey Khizer , There is a change in plan because I have managed to find a bigger dining table, Please come and join the meet up, I will be waiting to welcome you.\n",
      "\n",
      "Hey Khalil , There is a change in plan because I have managed to find a bigger dining table, Please come and join the meet up, I will be waiting to welcome you.\n",
      "\n",
      "Hey Zubair , There is a change in plan because I have managed to find a bigger dining table, Please come and join the meet up, I will be waiting to welcome you.\n",
      "\n",
      "Hey Ali , There is a change in plan because I have managed to find a bigger dining table, Please come and join the meet up, I will be waiting to welcome you.\n",
      "\n",
      "Hey Faizan , There is a change in plan because I have managed to find a bigger dining table, Please come and join the meet up, I will be waiting to welcome you.\n",
      "\n",
      "Hey Zahid , There is a change in plan because I have managed to find a bigger dining table, Please come and join the meet up, I will be waiting to welcome you.\n",
      "\n"
     ]
    }
   ],
   "source": [
    "_persons.insert(0,'Khizer')\n",
    "_persons.insert(2,'Zubair')\n",
    "_persons.append('Zahid')\n",
    "message1=\", There is a change in plan because I have managed to find a bigger dining table, Please come and join the meet up, I will be waiting to welcome you.\\n\"\n",
    "for i in _persons:\n",
    "    print(\"Hey\",i,message1)"
   ]
  },
  {
   "cell_type": "markdown",
   "metadata": {},
   "source": [
    "<h5> Q 5 : Here you have some data in variable below, your task is to make a list of specific word Surah then print the list and length of list</h5>\n"
   ]
  },
  {
   "cell_type": "code",
   "execution_count": 8,
   "metadata": {},
   "outputs": [],
   "source": [
    "data = \"Sura I Who believe in the Unseen, Sura Are steadfast in prayer, And spend Sura out of what We Have provided for them;\"\n"
   ]
  },
  {
   "cell_type": "code",
   "execution_count": 9,
   "metadata": {},
   "outputs": [
    {
     "name": "stdout",
     "output_type": "stream",
     "text": [
      "['Sura I Who believe in the Unseen', ' Sura Are steadfast in prayer', ' And spend Sura out of what We Have provided for them;']\n",
      "Length: 3\n"
     ]
    }
   ],
   "source": [
    "Sura=list((data))\n",
    "Sura=data.split(\",\")\n",
    "print(Sura)\n",
    "print(\"Length:\",len(Sura))"
   ]
  }
 ],
 "metadata": {
  "kernelspec": {
   "display_name": "Python 3",
   "language": "python",
   "name": "python3"
  },
  "language_info": {
   "codemirror_mode": {
    "name": "ipython",
    "version": 3
   },
   "file_extension": ".py",
   "mimetype": "text/x-python",
   "name": "python",
   "nbconvert_exporter": "python",
   "pygments_lexer": "ipython3",
   "version": "3.6.5"
  }
 },
 "nbformat": 4,
 "nbformat_minor": 2
}
